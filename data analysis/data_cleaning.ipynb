{
 "cells": [
  {
   "cell_type": "markdown",
   "metadata": {},
   "source": [
    "### Import the required libraries"
   ]
  },
  {
   "cell_type": "code",
   "execution_count": 1,
   "metadata": {},
   "outputs": [],
   "source": [
    "import numpy as np\n",
    "import pandas as pd\n",
    "import pickle"
   ]
  },
  {
   "cell_type": "markdown",
   "metadata": {},
   "source": [
    "### Import team dictionaries"
   ]
  },
  {
   "cell_type": "code",
   "execution_count": 4,
   "metadata": {},
   "outputs": [],
   "source": [
    "dict2020 = pickle.load(open('2020Dict.p', 'rb'))\n",
    "dict2021 = pickle.load(open('2021Dict.p', 'rb'))\n",
    "dict2022 = pickle.load(open('2022Dict.p', 'rb'))"
   ]
  },
  {
   "cell_type": "code",
   "execution_count": 7,
   "metadata": {},
   "outputs": [
    {
     "name": "stdout",
     "output_type": "stream",
     "text": [
      "TE      94.4\n",
      "CB      90.3\n",
      "EDGE    89.8\n",
      "DT      89.6\n",
      "S       84.9\n",
      "RB      82.8\n",
      "WR      77.5\n",
      "QB      77.5\n",
      "LT      75.6\n",
      "RG      73.0\n",
      "RT      70.7\n",
      "LG      68.8\n",
      "LB      67.7\n",
      "C       62.5\n",
      "dtype: object\n"
     ]
    }
   ],
   "source": [
    "print(dict2020['49ers'])"
   ]
  },
  {
   "cell_type": "code",
   "execution_count": 6,
   "metadata": {},
   "outputs": [
    {
     "name": "stdout",
     "output_type": "stream",
     "text": [
      "LT      91.9\n",
      "EDGE    89.8\n",
      "LB      88.6\n",
      "TE      84.9\n",
      "RG      56.9\n",
      "WR      80.1\n",
      "RT      79.7\n",
      "RB      79.3\n",
      "LG      78.8\n",
      "CB      77.6\n",
      "S       73.5\n",
      "QB      67.5\n",
      "C       65.9\n",
      "DT      61.3\n",
      "dtype: float64\n"
     ]
    }
   ],
   "source": [
    "print(dict2021['49ers'])"
   ]
  },
  {
   "cell_type": "code",
   "execution_count": 8,
   "metadata": {},
   "outputs": [
    {
     "name": "stdout",
     "output_type": "stream",
     "text": [
      "LT      96.6\n",
      "TE      90.7\n",
      "WR      90.2\n",
      "EDGE    89.4\n",
      "LG      55.5\n",
      "LB      80.1\n",
      "RB      76.8\n",
      "DT      76.0\n",
      "S       74.8\n",
      "CB      71.2\n",
      "RT      69.8\n",
      "QB      59.9\n",
      "C       58.8\n",
      "RG      57.1\n",
      "dtype: float64\n"
     ]
    }
   ],
   "source": [
    "print(dict2022['49ers'])"
   ]
  },
  {
   "cell_type": "code",
   "execution_count": 9,
   "metadata": {},
   "outputs": [],
   "source": [
    "# Editing the Cleveland Browns roster due to Watson suspension and Carolina Panters after Mayfield trade\n",
    "\n",
    "dict2022[\"Browns\"][\"QB\"] = 76.3\n",
    "dict2022[\"Browns\"]\n",
    "dict2022[\"Panthers\"][\"QB\"] = 63.6"
   ]
  },
  {
   "cell_type": "code",
   "execution_count": null,
   "metadata": {},
   "outputs": [],
   "source": []
  }
 ],
 "metadata": {
  "kernelspec": {
   "display_name": "Python 3.10.2 ('env': venv)",
   "language": "python",
   "name": "python3"
  },
  "language_info": {
   "codemirror_mode": {
    "name": "ipython",
    "version": 3
   },
   "file_extension": ".py",
   "mimetype": "text/x-python",
   "name": "python",
   "nbconvert_exporter": "python",
   "pygments_lexer": "ipython3",
   "version": "3.10.2"
  },
  "orig_nbformat": 4,
  "vscode": {
   "interpreter": {
    "hash": "6a2f9dfe722f9892e92c02c02e3f2a1de76fb98855531832c1cd703df5115fc5"
   }
  }
 },
 "nbformat": 4,
 "nbformat_minor": 2
}
