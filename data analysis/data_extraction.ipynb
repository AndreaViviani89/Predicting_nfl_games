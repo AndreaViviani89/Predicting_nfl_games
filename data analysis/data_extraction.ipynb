{
 "cells": [
  {
   "cell_type": "markdown",
   "metadata": {},
   "source": [
    "### Import the required libraries"
   ]
  },
  {
   "cell_type": "code",
   "execution_count": 158,
   "metadata": {},
   "outputs": [],
   "source": [
    "import numpy as np\n",
    "import pandas as pd\n",
    "import re\n",
    "import pickle"
   ]
  },
  {
   "cell_type": "markdown",
   "metadata": {},
   "source": [
    "##### Import 2020 rosters"
   ]
  },
  {
   "cell_type": "code",
   "execution_count": 149,
   "metadata": {},
   "outputs": [],
   "source": [
    "with open('C:/Users/andre/Documents/Strive_repository/Predicting_nfl_games/data/2020rosters.html') as file:\n",
    "    output = file.read()\n"
   ]
  },
  {
   "cell_type": "code",
   "execution_count": 150,
   "metadata": {},
   "outputs": [],
   "source": [
    "pattern = \"\"\" (?P<PlayerNames>[A-Z]+[A-Z]*\\s[A-Z]+[a-z]*) \"\"\"\n",
    "playerList = []\n",
    "for player in re.finditer(pattern, output, flags = re.S | re.X):\n",
    "        playerList.append(player.group(\"PlayerNames\"))"
   ]
  },
  {
   "cell_type": "code",
   "execution_count": 151,
   "metadata": {},
   "outputs": [],
   "source": [
    "positionList = [x.split(\" \")[0] for x in playerList]\n",
    "\n",
    "i = 0\n",
    "while i < len(positionList):\n",
    "        if positionList[i] == \"FS\" or positionList[i] == \"SS\":\n",
    "                positionList[i] = \"S\"\n",
    "        i += 1"
   ]
  },
  {
   "cell_type": "code",
   "execution_count": 152,
   "metadata": {},
   "outputs": [],
   "source": [
    "pattern = \"[0-9][0-9]\\.[0-9]\"\n",
    "ratingList = []\n",
    "for rating in re.finditer(pattern, output, flags = re.S | re.X):\n",
    "        ratingList.append(rating.group())"
   ]
  },
  {
   "cell_type": "code",
   "execution_count": 153,
   "metadata": {},
   "outputs": [],
   "source": [
    "teamList = [\"Ravens\", \"Saints\", \"49ers\", \"Chiefs\", \n",
    "            \"Buccaneers\", \"Cowboys\", \"Bills\", \"Titans\", \n",
    "            \"Eagles\", \"Steelers\", \"Browns\", \"Packers\", \"Colts\",\n",
    "            \"Broncos\", \"Seahawks\", \"Chargers\", \"Vikings\", \"Patriots\",\n",
    "            \"Lions\", \"Falcons\", \"Bears\", \"Rams\", \"Texans\", \"Cardinals\",\n",
    "            \"Raiders\", \"Bengals\", \"Giants\", \"Jets\", \"Panthers\", \"Dolphins\",\n",
    "            \"Commanders\", \"Jaguars\"]\n",
    "\n",
    "index = 0\n",
    "teamDict2020 = {}\n",
    "for team in teamList:\n",
    "        teamDict2020[team] = pd.Series(ratingList[index:index + 24], index = positionList[index:index + 24]).sort_values(ascending = False)\n",
    "        teamDict2020[team] = teamDict2020[team][~teamDict2020[team].index.duplicated(keep = 'first')]\n",
    "        index += 24\n",
    "        \n",
    "teamDict2020[\"49ers\"] = teamDict2020[\"49ers\"].drop(\"FB\")\n",
    "\n"
   ]
  },
  {
   "cell_type": "code",
   "execution_count": 154,
   "metadata": {},
   "outputs": [
    {
     "data": {
      "text/plain": [
       "TE      94.4\n",
       "CB      90.3\n",
       "EDGE    89.8\n",
       "DT      89.7\n",
       "S       84.9\n",
       "RB      82.8\n",
       "WR      77.8\n",
       "QB      77.5\n",
       "LT      75.6\n",
       "RG      73.0\n",
       "RT      70.7\n",
       "LG      68.8\n",
       "LB      67.7\n",
       "C       62.5\n",
       "dtype: object"
      ]
     },
     "execution_count": 154,
     "metadata": {},
     "output_type": "execute_result"
    }
   ],
   "source": [
    "teamDict2020[\"49ers\"]"
   ]
  },
  {
   "cell_type": "markdown",
   "metadata": {},
   "source": [
    "##### Import 2021 rosters"
   ]
  },
  {
   "cell_type": "code",
   "execution_count": 143,
   "metadata": {},
   "outputs": [],
   "source": [
    "with open(\"C:/Users/andre/Documents/Strive_repository/Predicting_nfl_games/data/2021rosters.html\") as file:\n",
    "        output = file.read()"
   ]
  },
  {
   "cell_type": "code",
   "execution_count": 144,
   "metadata": {},
   "outputs": [],
   "source": [
    "pattern = \"\"\"\n",
    "(?P<PlayerNames>[A-Z]+[A-Z]*\\s[A-Z]+[a-z]*)\n",
    "\"\"\"\n",
    "\n",
    "playerList = []\n",
    "for player in re.finditer(pattern, output, flags = re.S | re.X):\n",
    "        playerList.append(player.group(\"PlayerNames\"))"
   ]
  },
  {
   "cell_type": "code",
   "execution_count": 145,
   "metadata": {},
   "outputs": [],
   "source": [
    "positionList = [x.split(\"\\xa0\")[0] for x in playerList]\n",
    "positionList = [x.split(\" \")[0] for x in positionList]\n",
    "\n",
    "i = 0\n",
    "while i < len(positionList):\n",
    "        if positionList[i] == \"DI\":\n",
    "                positionList[i] = \"DT\"\n",
    "        i += 1"
   ]
  },
  {
   "cell_type": "code",
   "execution_count": 146,
   "metadata": {},
   "outputs": [],
   "source": [
    "pattern = \"[0-9][0-9]\\.[0-9]\"\n",
    "ratingList = []\n",
    "for rating in re.finditer(pattern, output, flags = re.S | re.X):\n",
    "        ratingList.append(rating.group())"
   ]
  },
  {
   "cell_type": "code",
   "execution_count": 155,
   "metadata": {},
   "outputs": [],
   "source": [
    "teamList = [\"Buccaneers\", \"Chiefs\", \"Browns\", \"Bills\", \"Ravens\",\n",
    "            \"Packers\", \"Rams\", \"Cowboys\", \"Vikings\", \"Broncos\", \"49ers\",\n",
    "            \"Commanders\", \"Titans\", \"Colts\", \"Seahawks\", \"Steelers\", \"Saints\",\n",
    "            \"Patriots\", \"Giants\", \"Chargers\", \"Cardinals\", \"Dolphins\", \"Bears\",\n",
    "            \"Bengals\", \"Falcons\", \"Raiders\", \"Panthers\", \"Jaguars\", \"Eagles\",\n",
    "            \"Jets\", \"Lions\", \"Texans\"]\n",
    "\n",
    "index = 0\n",
    "# teamDict2021 = {}\n",
    "# for team in teamList:\n",
    "#         teamDict2021[team] = pd.Series(ratingList[index:index + 24], index = positionList[index:index + 24]).sort_values(ascending = False)\n",
    "#         teamDict2021[team] = teamDict2021[team][~teamDict2021[team].index.duplicated(keep = 'first')]\n",
    "#         teamDict2021[team] = pd.to_numeric(teamDict2021[team])\n",
    "#         index += 24\n",
    "\n",
    "# teamDict2021[\"Vikings\"] = teamDict2021[\"Vikings\"].drop(\"FB\")\n",
    "# teamDict2021[\"49ers\"] = teamDict2021[\"49ers\"].drop(\"FB\")\n",
    "# teamDict2021[\"Dolphins\"] = teamDict2021[\"Dolphins\"].drop(\"ED\")\n"
   ]
  },
  {
   "cell_type": "code",
   "execution_count": 156,
   "metadata": {},
   "outputs": [],
   "source": [
    "# teamDict2021[\"49ers\"]"
   ]
  },
  {
   "cell_type": "markdown",
   "metadata": {},
   "source": [
    "##### Import 2022 rosters"
   ]
  },
  {
   "cell_type": "code",
   "execution_count": 136,
   "metadata": {},
   "outputs": [],
   "source": [
    "with open('C:/Users/andre/Documents/Strive_repository/Predicting_nfl_games/data/2022rosters.html') as file:\n",
    "    output = file.read()"
   ]
  },
  {
   "cell_type": "code",
   "execution_count": 137,
   "metadata": {},
   "outputs": [],
   "source": [
    "pattern = \"\"\" (?P<PlayerNames>[A-Z]+[A-Z]*\\s[A-Z]+) \"\"\"\n",
    "\n",
    "output = re.sub(\"Edge\", \"EDGE\", output)\n",
    "playerList = []\n",
    "for player in re.finditer(pattern, output, flags = re.S | re.X):\n",
    "        playerList.append(player.group(\"PlayerNames\"))\n",
    "\n",
    "\n",
    "positionList = [x.split(\" \")[0] for x in playerList]\n",
    "\n",
    "i = 0\n",
    "while i < len(positionList):\n",
    "        if positionList[i] == \"DI\":\n",
    "                positionList[i] = \"DT\"\n",
    "        i += 1"
   ]
  },
  {
   "cell_type": "code",
   "execution_count": 138,
   "metadata": {},
   "outputs": [],
   "source": [
    "\n",
    "pattern = \"[0-9][0-9]\\.[0-9]\"\n",
    "ratingList = []\n",
    "for rating in re.finditer(pattern, output, flags = re.S | re.X):\n",
    "        ratingList.append(rating.group())\n",
    "        \n",
    "ratingList.insert(480, \"77.6\")"
   ]
  },
  {
   "cell_type": "code",
   "execution_count": 139,
   "metadata": {},
   "outputs": [],
   "source": [
    "teamList = [\"Bills\", \"Buccaneers\", \"Chargers\", \"Rams\", \"Packers\", \"Browns\",\n",
    "            \"Eagles\", \"Bengals\", \"Chiefs\", \"Dolphins\", \"Saints\", \"Ravens\", \"49ers\",\n",
    "            \"Broncos\", \"Colts\", \"Cowboys\", \"Commanders\", \"Patriots\", \"Vikings\",\n",
    "            \"Titans\", \"Raiders\", \"Steelers\", \"Cardinals\", \"Jets\", \"Lions\", \"Giants\",\n",
    "            \"Panthers\", \"Jaguars\", \"Seahawks\", \"Bears\", \"Falcons\", \"Texans\"]\n",
    "\n",
    "\n",
    "index = 0\n",
    "teamDict2022 = {}\n",
    "for team in teamList:\n",
    "        teamDict2022[team] = pd.Series(ratingList[index:index + 24], index = positionList[index:index + 24]).sort_values(ascending = False)\n",
    "        teamDict2022[team] = teamDict2022[team][~teamDict2022[team].index.duplicated(keep = 'first')]\n",
    "        teamDict2022[team] = pd.to_numeric(teamDict2022[team])\n",
    "        index += 24\n",
    "        \n",
    "teamDict2022[\"Dolphins\"] = teamDict2022[\"Dolphins\"].drop(\"FB\")\n",
    "teamDict2022[\"Ravens\"] = teamDict2022[\"Ravens\"].drop(\"FB\")\n",
    "teamDict2022[\"49ers\"] = teamDict2022[\"49ers\"].drop(\"FB\")\n",
    "teamDict2022[\"Vikings\"] = teamDict2022[\"Vikings\"].drop(\"FB\")\n"
   ]
  },
  {
   "cell_type": "code",
   "execution_count": 141,
   "metadata": {},
   "outputs": [
    {
     "data": {
      "text/plain": [
       "LT      96.6\n",
       "TE      90.7\n",
       "WR      90.2\n",
       "EDGE    89.4\n",
       "LG      81.3\n",
       "LB      80.1\n",
       "RB      76.8\n",
       "DT      76.0\n",
       "S       74.8\n",
       "CB      71.2\n",
       "RT      69.8\n",
       "QB      59.9\n",
       "C       58.8\n",
       "RG      57.1\n",
       "dtype: float64"
      ]
     },
     "execution_count": 141,
     "metadata": {},
     "output_type": "execute_result"
    }
   ],
   "source": [
    "# Checking 49ers stats\n",
    "\n",
    "teamDict2022[\"49ers\"]"
   ]
  },
  {
   "cell_type": "code",
   "execution_count": 157,
   "metadata": {},
   "outputs": [],
   "source": [
    "# manually removing rookie college rankings because they are inaccurate\n",
    "\n",
    "teamDict2020[\"Ravens\"][\"RB\"] = 78.7\n",
    "teamDict2020[\"Ravens\"][\"LB\"] = 74.4\n",
    "teamDict2020[\"Saints\"][\"RG\"] = 58.6\n",
    "teamDict2020[\"49ers\"][\"WR\"] = 77.5\n",
    "teamDict2020[\"49ers\"][\"DT\"] = 89.6\n",
    "teamDict2020[\"Chiefs\"][\"RB\"] = 65.7\n",
    "teamDict2020[\"Chiefs\"][\"LB\"] = 50.4\n",
    "teamDict2020[\"Buccaneers\"][\"WR\"] = 90.7\n",
    "teamDict2020[\"Buccaneers\"][\"RB\"] = 59.9\n",
    "teamDict2020[\"Buccaneers\"][\"RT\"] = 81.8\n",
    "teamDict2020[\"Buccaneers\"][\"S\"] = 67.1\n",
    "teamDict2020[\"Cowboys\"][\"WR\"] = 84.1\n",
    "teamDict2020[\"Cowboys\"][\"C\"] = 53.5\n",
    "teamDict2020[\"Cowboys\"][\"CB\"] = 72.2\n",
    "teamDict2020[\"Bills\"][\"RB\"] = 69.3\n",
    "teamDict2020[\"Titans\"][\"CB\"] = 79.9\n",
    "teamDict2020[\"Eagles\"][\"WR\"] = 74.8\n",
    "teamDict2020[\"Eagles\"][\"LB\"] = 62.2\n",
    "teamDict2020[\"Browns\"][\"LT\"] = 51.5\n",
    "teamDict2020[\"Browns\"][\"LB\"] = 58.4\n",
    "teamDict2020[\"Packers\"][\"RB\"] = 84.8\n",
    "teamDict2020[\"Packers\"][\"TE\"] = 68.0\n",
    "teamDict2020[\"Packers\"][\"DT\"] = 79.5\n",
    "teamDict2020[\"Colts\"][\"RB\"] = 83.9\n",
    "teamDict2020[\"Colts\"][\"WR\"] = 75.1\n",
    "teamDict2020[\"Broncos\"][\"WR\"] = 83.1\n",
    "teamDict2020[\"Broncos\"][\"C\"] = 40.5\n",
    "teamDict2020[\"Broncos\"][\"CB\"] = 81.3\n",
    "teamDict2020[\"Seahawks\"][\"RG\"] = 70.2\n",
    "teamDict2020[\"Seahawks\"][\"LB\"] = 76.4\n",
    "teamDict2020[\"Chargers\"][\"LB\"] = 66.6\n",
    "teamDict2020[\"Vikings\"][\"WR\"] = 90.4\n",
    "teamDict2020[\"Vikings\"][\"LT\"] = 66.2\n",
    "teamDict2020[\"Vikings\"][\"RG\"] = 33.1\n",
    "teamDict2020[\"Vikings\"][\"CB\"] = 70.1\n",
    "teamDict2020[\"Patriots\"][\"QB\"] = 42.6\n",
    "teamDict2020[\"Patriots\"][\"TE\"] = 51.6\n",
    "teamDict2020[\"Rams\"][\"RB\"] = 66.7\n",
    "teamDict2020[\"Rams\"][\"RG\"] = 57.0\n",
    "teamDict2020[\"Rams\"][\"CB\"] = 70.3\n",
    "teamDict2020[\"Falcons\"][\"RG\"] = 47.0\n",
    "teamDict2020[\"Falcons\"][\"CB\"] = 56.8\n",
    "teamDict2020[\"Bears\"][\"CB\"] = 62.5\n",
    "teamDict2020[\"Rams\"][\"RB\"] = 68.4\n",
    "teamDict2020[\"Rams\"][\"LB\"] = 60.7\n",
    "teamDict2020[\"Texans\"][\"DT\"] = 59.8\n",
    "teamDict2020[\"Texans\"][\"CB\"] = 64.5\n",
    "teamDict2020[\"Cardinals\"][\"DT\"] = 65.1\n",
    "teamDict2020[\"Cardinals\"][\"LB\"] = 61.8\n",
    "teamDict2020[\"Raiders\"][\"S\"] = 69.3\n",
    "teamDict2020[\"Bengals\"][\"QB\"] = 75.1\n",
    "teamDict2020[\"Bengals\"][\"WR\"] = 85.2\n",
    "teamDict2020[\"Bengals\"][\"LT\"] = 70.1\n",
    "teamDict2020[\"Bengals\"][\"LB\"] = 51.2\n",
    "teamDict2020[\"Giants\"][\"S\"] = 66.6\n",
    "teamDict2020[\"Giants\"][\"LT\"] = 62.4\n",
    "teamDict2020[\"Jets\"][\"WR\"] = 73.0\n",
    "teamDict2020[\"Jets\"][\"LT\"] = 74.4\n",
    "teamDict2020[\"Panthers\"][\"DT\"] = 83.7\n",
    "teamDict2020[\"Panthers\"][\"EDGE\"] = 54.7\n",
    "teamDict2020[\"Panthers\"][\"S\"] = 76.4\n",
    "teamDict2020[\"Dolphins\"][\"LT\"] = 52.3\n",
    "teamDict2020[\"Dolphins\"][\"RG\"] = 65.8\n",
    "teamDict2020[\"Dolphins\"][\"DT\"] = 64.4\n",
    "teamDict2020[\"Commanders\"][\"EDGE\"] = 60.2\n",
    "teamDict2020[\"Jaguars\"][\"DT\"] = 75.6\n",
    "teamDict2020[\"Jaguars\"][\"EDGE\"] = 68.4\n",
    "# teamDict2021[\"Chiefs\"][\"C\"] = 91.4\n",
    "# teamDict2021[\"Browns\"][\"LB\"] = 45.5\n",
    "# teamDict2021[\"Browns\"][\"CB\"] = 70.5\n",
    "# teamDict2021[\"Ravens\"][\"RG\"] = 55.8\n",
    "# teamDict2021[\"Packers\"][\"C\"] = 58.3\n",
    "# teamDict2021[\"Rams\"][\"LB\"] = 40.0\n",
    "# teamDict2021[\"Rams\"][\"S\"] = 65.6\n",
    "# teamDict2021[\"Cowboys\"][\"LB\"] = 89.8\n",
    "# teamDict2021[\"Cowboys\"][\"CB\"] = 62.7\n",
    "# teamDict2021[\"Vikings\"][\"LT\"] = 71.9\n",
    "# teamDict2021[\"Vikings\"][\"RG\"] = 54.4\n",
    "# teamDict2021[\"Broncos\"][\"RB\"] = 72.5\n",
    "# teamDict2021[\"49ers\"][\"RG\"] = 56.9\n",
    "# teamDict2021[\"Commanders\"][\"WR\"] = 78.5\n",
    "# teamDict2021[\"Commanders\"][\"RT\"] = 74.9\n",
    "# teamDict2021[\"Commanders\"][\"LB\"] = 64.8\n",
    "# teamDict2021[\"Titans\"][\"RT\"] = 49.7\n",
    "# teamDict2021[\"Titans\"][\"CB\"] = 66.7\n",
    "# teamDict2021[\"Colts\"][\"EDGE\"] = 62.9\n",
    "# teamDict2021[\"Seahawks\"][\"WR\"] = 82.5\n",
    "# teamDict2021[\"Steelers\"][\"RB\"] = 70.7\n",
    "# teamDict2021[\"Steelers\"][\"TE\"] = 57.5\n",
    "# teamDict2021[\"Steelers\"][\"C\"] = 52.4\n",
    "# teamDict2021[\"Saints\"][\"LB\"] = 77.8\n",
    "# teamDict2021[\"Saints\"][\"CB\"] = 60.3\n",
    "# teamDict2021[\"Giants\"][\"EDGE\"] = 67.7\n",
    "# teamDict2021[\"Chargers\"][\"LT\"] = 83.6\n",
    "# teamDict2021[\"Chargers\"][\"CB\"] = 63.1\n",
    "# teamDict2021[\"Cardinals\"][\"LB\"] = 59.9\n",
    "# teamDict2021[\"Dolphins\"][\"RT\"] = 50.8\n",
    "# teamDict2021[\"Dolphins\"][\"EDGE\"] = 66.4\n",
    "# teamDict2021[\"Dolphins\"][\"S\"] = 84.7\n",
    "# teamDict2021[\"Bears\"][\"LT\"] = 47.5\n",
    "# teamDict2021[\"Bengals\"][\"WR\"] = 83.1\n",
    "# teamDict2021[\"Bengals\"][\"RG\"] = 56.3\n",
    "# teamDict2021[\"Falcons\"][\"TE\"] = 80.3\n",
    "# teamDict2021[\"Falcons\"][\"LG\"] = 49.2\n",
    "# teamDict2021[\"Falcons\"][\"S\"] = 65.3\n",
    "# teamDict2021[\"Raiders\"][\"RT\"] = 45.0\n",
    "# teamDict2021[\"Raiders\"][\"S\"] = 72.5\n",
    "# teamDict2021[\"Panthers\"][\"TE\"] = 61.7\n",
    "# teamDict2021[\"Panthers\"][\"LT\"] = 61.6\n",
    "# teamDict2021[\"Panthers\"][\"CB\"] = 70.4\n",
    "# teamDict2021[\"Jaguars\"][\"QB\"] = 59.6\n",
    "# teamDict2021[\"Jaguars\"][\"RB\"] = 72.9\n",
    "# teamDict2021[\"Jaguars\"][\"DT\"] = 71.7\n",
    "# teamDict2021[\"Jaguars\"][\"CB\"] = 64.6\n",
    "# teamDict2021[\"Eagles\"][\"WR\"] = 71.2\n",
    "# teamDict2021[\"Eagles\"][\"CB\"] = 62.9\n",
    "# teamDict2021[\"Jets\"][\"QB\"] = 59.3\n",
    "# teamDict2021[\"Jets\"][\"WR\"] = 85.3\n",
    "# teamDict2021[\"Jets\"][\"LG\"] = 66.8\n",
    "# teamDict2021[\"Lions\"][\"WR\"] = 79.9\n",
    "# teamDict2021[\"Lions\"][\"RT\"] = 77.0\n",
    "# teamDict2021[\"Lions\"][\"DT\"] = 63.9\n",
    "teamDict2022[\"Bills\"][\"RB\"] = 69.0\n",
    "teamDict2022[\"Buccaneers\"][\"RB\"] = 75.1\n",
    "teamDict2022[\"Buccaneers\"][\"LG\"] = 51.6\n",
    "teamDict2022[\"Chargers\"][\"RG\"] = 65.9\n",
    "teamDict2022[\"Rams\"][\"RG\"] = 48.2\n",
    "teamDict2022[\"Packers\"][\"WR\"] = 70.1\n",
    "teamDict2022[\"Packers\"][\"DT\"] = 75.4\n",
    "teamDict2022[\"Browns\"][\"WR\"] = 73.0\n",
    "teamDict2022[\"Browns\"][\"DT\"] = 41.6\n",
    "teamDict2022[\"Eagles\"][\"DT\"] = 68.7\n",
    "teamDict2022[\"Eagles\"][\"LB\"] = 66.5\n",
    "teamDict2022[\"Bengals\"][\"S\"] = 72.1\n",
    "teamDict2022[\"Chiefs\"][\"WR\"] = 70.0\n",
    "teamDict2022[\"Chiefs\"][\"RT\"] = 67.2\n",
    "teamDict2022[\"Chiefs\"][\"EDGE\"] = 54.9\n",
    "teamDict2022[\"Chiefs\"][\"CB\"] = 79.1\n",
    "teamDict2022[\"Saints\"][\"WR\"] = 79.6\n",
    "teamDict2022[\"Ravens\"][\"C\"] = 75.4\n",
    "teamDict2022[\"49ers\"][\"LG\"] = 55.5\n",
    "teamDict2022[\"Broncos\"][\"DT\"] = 73.7\n",
    "teamDict2022[\"Colts\"][\"S\"] = 64.8\n",
    "teamDict2022[\"Cowboys\"][\"LG\"] = 72.3\n",
    "teamDict2022[\"Commanders\"][\"WR\"] = 78.3\n",
    "teamDict2022[\"Commanders\"][\"S\"] = 70.9\n",
    "teamDict2022[\"Patriots\"][\"LG\"] = 66.3\n",
    "teamDict2022[\"Vikings\"][\"CB\"] = 63.0\n",
    "teamDict2022[\"Vikings\"][\"S\"] = 77.9\n",
    "teamDict2022[\"Titans\"][\"WR\"] = 75.7\n",
    "teamDict2022[\"Titans\"][\"CB\"] = 64.1\n",
    "teamDict2022[\"Raiders\"][\"RG\"] = 50.6\n",
    "teamDict2022[\"Jets\"][\"WR\"] = 71.2\n",
    "teamDict2022[\"Jets\"][\"EDGE\"] = 80.3\n",
    "teamDict2022[\"Jets\"][\"CB\"] = 78.6\n",
    "teamDict2022[\"Lions\"][\"WR\"] = 79.9\n",
    "teamDict2022[\"Lions\"][\"EDGE\"] = 68.8\n",
    "teamDict2022[\"Giants\"][\"WR\"] = 72.8\n",
    "teamDict2022[\"Giants\"][\"RT\"] = 65.8\n",
    "teamDict2022[\"Giants\"][\"EDGE\"] = 58.3\n",
    "teamDict2022[\"Panthers\"][\"LT\"] = 71.6\n",
    "teamDict2022[\"Panthers\"][\"CB\"] = 61.3\n",
    "teamDict2022[\"Jaguars\"][\"RB\"] = 67.4\n",
    "teamDict2022[\"Jaguars\"][\"LB\"] = 47.0\n",
    "teamDict2022[\"Seahawks\"][\"RB\"] = 80.5\n",
    "teamDict2022[\"Seahawks\"][\"LT\"] = 66.6\n",
    "teamDict2022[\"Seahawks\"][\"RT\"] = 54.0\n",
    "teamDict2022[\"Bears\"][\"WR\"] = 74.7\n",
    "teamDict2022[\"Bears\"][\"RT\"] = 61.4\n",
    "teamDict2022[\"Bears\"][\"CB\"] = 64.2\n",
    "teamDict2022[\"Bears\"][\"S\"] = 59.0\n",
    "teamDict2022[\"Falcons\"][\"WR\"] = 62.9\n",
    "teamDict2022[\"Falcons\"][\"EDGE\"] = 65.3\n",
    "teamDict2022[\"Texans\"][\"RB\"] = 65.4\n",
    "teamDict2022[\"Texans\"][\"WR\"] = 77.4\n",
    "teamDict2022[\"Texans\"][\"LG\"] = 59.6\n",
    "teamDict2022[\"Texans\"][\"S\"] = 83.8"
   ]
  },
  {
   "cell_type": "code",
   "execution_count": 159,
   "metadata": {},
   "outputs": [],
   "source": [
    "pickle.dump(teamDict2020, open(\"2020Dict.p\", \"wb\"))\n",
    "# pickle.dump(teamDict2021, open(\"2021Dict.p\", \"wb\"))\n",
    "pickle.dump(teamDict2022, open(\"2022Dict.p\", \"wb\"))"
   ]
  }
 ],
 "metadata": {
  "kernelspec": {
   "display_name": "Python 3.10.2 ('env': venv)",
   "language": "python",
   "name": "python3"
  },
  "language_info": {
   "codemirror_mode": {
    "name": "ipython",
    "version": 3
   },
   "file_extension": ".py",
   "mimetype": "text/x-python",
   "name": "python",
   "nbconvert_exporter": "python",
   "pygments_lexer": "ipython3",
   "version": "3.10.2"
  },
  "orig_nbformat": 4,
  "vscode": {
   "interpreter": {
    "hash": "6a2f9dfe722f9892e92c02c02e3f2a1de76fb98855531832c1cd703df5115fc5"
   }
  }
 },
 "nbformat": 4,
 "nbformat_minor": 2
}
