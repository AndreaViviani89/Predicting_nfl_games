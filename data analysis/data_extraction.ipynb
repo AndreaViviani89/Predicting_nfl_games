{
 "cells": [
  {
   "cell_type": "markdown",
   "metadata": {},
   "source": [
    "### Import the required libraries"
   ]
  },
  {
   "cell_type": "code",
   "execution_count": 117,
   "metadata": {},
   "outputs": [],
   "source": [
    "import numpy as np\n",
    "import pandas as pd\n",
    "import re"
   ]
  },
  {
   "cell_type": "markdown",
   "metadata": {},
   "source": [
    "##### Import 2020 rosters"
   ]
  },
  {
   "cell_type": "code",
   "execution_count": 149,
   "metadata": {},
   "outputs": [],
   "source": [
    "with open('C:/Users/andre/Documents/Strive_repository/Predicting_nfl_games/data/2020rosters.html') as file:\n",
    "    output = file.read()\n"
   ]
  },
  {
   "cell_type": "code",
   "execution_count": 150,
   "metadata": {},
   "outputs": [],
   "source": [
    "pattern = \"\"\" (?P<PlayerNames>[A-Z]+[A-Z]*\\s[A-Z]+[a-z]*) \"\"\"\n",
    "playerList = []\n",
    "for player in re.finditer(pattern, output, flags = re.S | re.X):\n",
    "        playerList.append(player.group(\"PlayerNames\"))"
   ]
  },
  {
   "cell_type": "code",
   "execution_count": 151,
   "metadata": {},
   "outputs": [],
   "source": [
    "positionList = [x.split(\" \")[0] for x in playerList]\n",
    "\n",
    "i = 0\n",
    "while i < len(positionList):\n",
    "        if positionList[i] == \"FS\" or positionList[i] == \"SS\":\n",
    "                positionList[i] = \"S\"\n",
    "        i += 1"
   ]
  },
  {
   "cell_type": "code",
   "execution_count": 152,
   "metadata": {},
   "outputs": [],
   "source": [
    "pattern = \"[0-9][0-9]\\.[0-9]\"\n",
    "ratingList = []\n",
    "for rating in re.finditer(pattern, output, flags = re.S | re.X):\n",
    "        ratingList.append(rating.group())"
   ]
  },
  {
   "cell_type": "code",
   "execution_count": 153,
   "metadata": {},
   "outputs": [],
   "source": [
    "teamList = [\"Ravens\", \"Saints\", \"49ers\", \"Chiefs\", \n",
    "            \"Buccaneers\", \"Cowboys\", \"Bills\", \"Titans\", \n",
    "            \"Eagles\", \"Steelers\", \"Browns\", \"Packers\", \"Colts\",\n",
    "            \"Broncos\", \"Seahawks\", \"Chargers\", \"Vikings\", \"Patriots\",\n",
    "            \"Lions\", \"Falcons\", \"Bears\", \"Rams\", \"Texans\", \"Cardinals\",\n",
    "            \"Raiders\", \"Bengals\", \"Giants\", \"Jets\", \"Panthers\", \"Dolphins\",\n",
    "            \"Commanders\", \"Jaguars\"]\n",
    "\n",
    "index = 0\n",
    "teamDict2020 = {}\n",
    "for team in teamList:\n",
    "        teamDict2020[team] = pd.Series(ratingList[index:index + 24], index = positionList[index:index + 24]).sort_values(ascending = False)\n",
    "        teamDict2020[team] = teamDict2020[team][~teamDict2020[team].index.duplicated(keep = 'first')]\n",
    "        index += 24\n",
    "        \n",
    "teamDict2020[\"49ers\"] = teamDict2020[\"49ers\"].drop(\"FB\")\n",
    "\n"
   ]
  },
  {
   "cell_type": "code",
   "execution_count": 154,
   "metadata": {},
   "outputs": [
    {
     "data": {
      "text/plain": [
       "TE      94.4\n",
       "CB      90.3\n",
       "EDGE    89.8\n",
       "DT      89.7\n",
       "S       84.9\n",
       "RB      82.8\n",
       "WR      77.8\n",
       "QB      77.5\n",
       "LT      75.6\n",
       "RG      73.0\n",
       "RT      70.7\n",
       "LG      68.8\n",
       "LB      67.7\n",
       "C       62.5\n",
       "dtype: object"
      ]
     },
     "execution_count": 154,
     "metadata": {},
     "output_type": "execute_result"
    }
   ],
   "source": [
    "teamDict2020[\"49ers\"]"
   ]
  },
  {
   "cell_type": "markdown",
   "metadata": {},
   "source": [
    "##### Import 2021 rosters"
   ]
  },
  {
   "cell_type": "code",
   "execution_count": 143,
   "metadata": {},
   "outputs": [],
   "source": [
    "with open(\"C:/Users/andre/Documents/Strive_repository/Predicting_nfl_games/data/2021rosters.html\") as file:\n",
    "        output = file.read()"
   ]
  },
  {
   "cell_type": "code",
   "execution_count": 144,
   "metadata": {},
   "outputs": [],
   "source": [
    "pattern = \"\"\"\n",
    "(?P<PlayerNames>[A-Z]+[A-Z]*\\s[A-Z]+[a-z]*)\n",
    "\"\"\"\n",
    "\n",
    "playerList = []\n",
    "for player in re.finditer(pattern, output, flags = re.S | re.X):\n",
    "        playerList.append(player.group(\"PlayerNames\"))"
   ]
  },
  {
   "cell_type": "code",
   "execution_count": 145,
   "metadata": {},
   "outputs": [],
   "source": [
    "positionList = [x.split(\"\\xa0\")[0] for x in playerList]\n",
    "positionList = [x.split(\" \")[0] for x in positionList]\n",
    "\n",
    "i = 0\n",
    "while i < len(positionList):\n",
    "        if positionList[i] == \"DI\":\n",
    "                positionList[i] = \"DT\"\n",
    "        i += 1"
   ]
  },
  {
   "cell_type": "code",
   "execution_count": 146,
   "metadata": {},
   "outputs": [],
   "source": [
    "pattern = \"[0-9][0-9]\\.[0-9]\"\n",
    "ratingList = []\n",
    "for rating in re.finditer(pattern, output, flags = re.S | re.X):\n",
    "        ratingList.append(rating.group())"
   ]
  },
  {
   "cell_type": "code",
   "execution_count": 155,
   "metadata": {},
   "outputs": [],
   "source": [
    "teamList = [\"Buccaneers\", \"Chiefs\", \"Browns\", \"Bills\", \"Ravens\",\n",
    "            \"Packers\", \"Rams\", \"Cowboys\", \"Vikings\", \"Broncos\", \"49ers\",\n",
    "            \"Commanders\", \"Titans\", \"Colts\", \"Seahawks\", \"Steelers\", \"Saints\",\n",
    "            \"Patriots\", \"Giants\", \"Chargers\", \"Cardinals\", \"Dolphins\", \"Bears\",\n",
    "            \"Bengals\", \"Falcons\", \"Raiders\", \"Panthers\", \"Jaguars\", \"Eagles\",\n",
    "            \"Jets\", \"Lions\", \"Texans\"]\n",
    "\n",
    "index = 0\n",
    "# teamDict2021 = {}\n",
    "# for team in teamList:\n",
    "#         teamDict2021[team] = pd.Series(ratingList[index:index + 24], index = positionList[index:index + 24]).sort_values(ascending = False)\n",
    "#         teamDict2021[team] = teamDict2021[team][~teamDict2021[team].index.duplicated(keep = 'first')]\n",
    "#         teamDict2021[team] = pd.to_numeric(teamDict2021[team])\n",
    "#         index += 24\n",
    "\n",
    "# teamDict2021[\"Vikings\"] = teamDict2021[\"Vikings\"].drop(\"FB\")\n",
    "# teamDict2021[\"49ers\"] = teamDict2021[\"49ers\"].drop(\"FB\")\n",
    "# teamDict2021[\"Dolphins\"] = teamDict2021[\"Dolphins\"].drop(\"ED\")\n"
   ]
  },
  {
   "cell_type": "code",
   "execution_count": 156,
   "metadata": {},
   "outputs": [],
   "source": [
    "# teamDict2021[\"49ers\"]"
   ]
  },
  {
   "cell_type": "markdown",
   "metadata": {},
   "source": [
    "##### Import 2022 rosters"
   ]
  },
  {
   "cell_type": "code",
   "execution_count": 136,
   "metadata": {},
   "outputs": [],
   "source": [
    "with open('C:/Users/andre/Documents/Strive_repository/Predicting_nfl_games/data/2022rosters.html') as file:\n",
    "    output = file.read()"
   ]
  },
  {
   "cell_type": "code",
   "execution_count": 137,
   "metadata": {},
   "outputs": [],
   "source": [
    "pattern = \"\"\" (?P<PlayerNames>[A-Z]+[A-Z]*\\s[A-Z]+) \"\"\"\n",
    "\n",
    "output = re.sub(\"Edge\", \"EDGE\", output)\n",
    "playerList = []\n",
    "for player in re.finditer(pattern, output, flags = re.S | re.X):\n",
    "        playerList.append(player.group(\"PlayerNames\"))\n",
    "\n",
    "\n",
    "positionList = [x.split(\" \")[0] for x in playerList]\n",
    "\n",
    "i = 0\n",
    "while i < len(positionList):\n",
    "        if positionList[i] == \"DI\":\n",
    "                positionList[i] = \"DT\"\n",
    "        i += 1"
   ]
  },
  {
   "cell_type": "code",
   "execution_count": 138,
   "metadata": {},
   "outputs": [],
   "source": [
    "\n",
    "pattern = \"[0-9][0-9]\\.[0-9]\"\n",
    "ratingList = []\n",
    "for rating in re.finditer(pattern, output, flags = re.S | re.X):\n",
    "        ratingList.append(rating.group())\n",
    "        \n",
    "ratingList.insert(480, \"77.6\")"
   ]
  },
  {
   "cell_type": "code",
   "execution_count": 139,
   "metadata": {},
   "outputs": [],
   "source": [
    "teamList = [\"Bills\", \"Buccaneers\", \"Chargers\", \"Rams\", \"Packers\", \"Browns\",\n",
    "            \"Eagles\", \"Bengals\", \"Chiefs\", \"Dolphins\", \"Saints\", \"Ravens\", \"49ers\",\n",
    "            \"Broncos\", \"Colts\", \"Cowboys\", \"Commanders\", \"Patriots\", \"Vikings\",\n",
    "            \"Titans\", \"Raiders\", \"Steelers\", \"Cardinals\", \"Jets\", \"Lions\", \"Giants\",\n",
    "            \"Panthers\", \"Jaguars\", \"Seahawks\", \"Bears\", \"Falcons\", \"Texans\"]\n",
    "\n",
    "\n",
    "index = 0\n",
    "teamDict2022 = {}\n",
    "for team in teamList:\n",
    "        teamDict2022[team] = pd.Series(ratingList[index:index + 24], index = positionList[index:index + 24]).sort_values(ascending = False)\n",
    "        teamDict2022[team] = teamDict2022[team][~teamDict2022[team].index.duplicated(keep = 'first')]\n",
    "        teamDict2022[team] = pd.to_numeric(teamDict2022[team])\n",
    "        index += 24\n",
    "        \n",
    "teamDict2022[\"Dolphins\"] = teamDict2022[\"Dolphins\"].drop(\"FB\")\n",
    "teamDict2022[\"Ravens\"] = teamDict2022[\"Ravens\"].drop(\"FB\")\n",
    "teamDict2022[\"49ers\"] = teamDict2022[\"49ers\"].drop(\"FB\")\n",
    "teamDict2022[\"Vikings\"] = teamDict2022[\"Vikings\"].drop(\"FB\")\n"
   ]
  },
  {
   "cell_type": "code",
   "execution_count": 141,
   "metadata": {},
   "outputs": [
    {
     "data": {
      "text/plain": [
       "LT      96.6\n",
       "TE      90.7\n",
       "WR      90.2\n",
       "EDGE    89.4\n",
       "LG      81.3\n",
       "LB      80.1\n",
       "RB      76.8\n",
       "DT      76.0\n",
       "S       74.8\n",
       "CB      71.2\n",
       "RT      69.8\n",
       "QB      59.9\n",
       "C       58.8\n",
       "RG      57.1\n",
       "dtype: float64"
      ]
     },
     "execution_count": 141,
     "metadata": {},
     "output_type": "execute_result"
    }
   ],
   "source": [
    "# Checking 49ers stats\n",
    "\n",
    "teamDict2022[\"49ers\"]"
   ]
  }
 ],
 "metadata": {
  "kernelspec": {
   "display_name": "Python 3.10.2 ('env': venv)",
   "language": "python",
   "name": "python3"
  },
  "language_info": {
   "codemirror_mode": {
    "name": "ipython",
    "version": 3
   },
   "file_extension": ".py",
   "mimetype": "text/x-python",
   "name": "python",
   "nbconvert_exporter": "python",
   "pygments_lexer": "ipython3",
   "version": "3.10.2"
  },
  "orig_nbformat": 4,
  "vscode": {
   "interpreter": {
    "hash": "6a2f9dfe722f9892e92c02c02e3f2a1de76fb98855531832c1cd703df5115fc5"
   }
  }
 },
 "nbformat": 4,
 "nbformat_minor": 2
}
