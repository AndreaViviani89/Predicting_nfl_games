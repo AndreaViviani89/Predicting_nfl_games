{
 "cells": [
  {
   "cell_type": "markdown",
   "metadata": {},
   "source": [
    "### Import the required libraries"
   ]
  },
  {
   "cell_type": "code",
   "execution_count": 1,
   "metadata": {},
   "outputs": [],
   "source": [
    "import numpy as np\n",
    "import pandas as pd\n",
    "import re"
   ]
  },
  {
   "cell_type": "markdown",
   "metadata": {},
   "source": [
    "##### Import 2020 rosters"
   ]
  },
  {
   "cell_type": "code",
   "execution_count": 13,
   "metadata": {},
   "outputs": [],
   "source": [
    "with open('C:/Users/andre/Documents/Strive_repository/Predicting_nfl_games/data/2020rosters.html') as file:\n",
    "    output = file.read()\n"
   ]
  },
  {
   "cell_type": "code",
   "execution_count": 14,
   "metadata": {},
   "outputs": [],
   "source": [
    "pattern = \"\"\" (?P<PlayerNames>[A-Z]+[A-Z]*\\s[A-Z]+[a-z]*) \"\"\"\n",
    "playerList = []\n",
    "for player in re.finditer(pattern, output, flags = re.S | re.X):\n",
    "        playerList.append(player.group(\"PlayerNames\"))"
   ]
  },
  {
   "cell_type": "code",
   "execution_count": 19,
   "metadata": {},
   "outputs": [],
   "source": [
    "positionList = [x.split(\" \")[0] for x in playerList]\n",
    "\n",
    "i = 0\n",
    "while i < len(positionList):\n",
    "        if positionList[i] == \"FS\" or positionList[i] == \"SS\":\n",
    "                positionList[i] = \"S\"\n",
    "        i += 1"
   ]
  },
  {
   "cell_type": "code",
   "execution_count": 20,
   "metadata": {},
   "outputs": [],
   "source": [
    "pattern = \"[0-9][0-9]\\.[0-9]\"\n",
    "ratingList = []\n",
    "for rating in re.finditer(pattern, output, flags = re.S | re.X):\n",
    "        ratingList.append(rating.group())"
   ]
  },
  {
   "cell_type": "code",
   "execution_count": 22,
   "metadata": {},
   "outputs": [
    {
     "data": {
      "text/plain": [
       "DT      90.3\n",
       "QB      90.1\n",
       "LT      89.4\n",
       "TE      88.5\n",
       "CB      83.9\n",
       "RB      83.8\n",
       "LB      82.8\n",
       "S       76.9\n",
       "RT      73.6\n",
       "WR      72.8\n",
       "EDGE    69.2\n",
       "C       68.7\n",
       "LG      63.8\n",
       "RG      63.6\n",
       "dtype: object"
      ]
     },
     "execution_count": 22,
     "metadata": {},
     "output_type": "execute_result"
    }
   ],
   "source": [
    "teamList = [\"Ravens\", \"Saints\", \"49ers\", \"Chiefs\", \n",
    "            \"Buccaneers\", \"Cowboys\", \"Bills\", \"Titans\", \n",
    "            \"Eagles\", \"Steelers\", \"Browns\", \"Packers\", \"Colts\",\n",
    "            \"Broncos\", \"Seahawks\", \"Chargers\", \"Vikings\", \"Patriots\",\n",
    "            \"Lions\", \"Falcons\", \"Bears\", \"Rams\", \"Texans\", \"Cardinals\",\n",
    "            \"Raiders\", \"Bengals\", \"Giants\", \"Jets\", \"Panthers\", \"Dolphins\",\n",
    "            \"Commanders\", \"Jaguars\"]\n",
    "\n",
    "index = 0\n",
    "teamDict2020 = {}\n",
    "for team in teamList:\n",
    "        teamDict2020[team] = pd.Series(ratingList[index:index + 24], index = positionList[index:index + 24]).sort_values(ascending = False)\n",
    "        teamDict2020[team] = teamDict2020[team][~teamDict2020[team].index.duplicated(keep = 'first')]\n",
    "        index += 24\n",
    "        \n",
    "teamDict2020[\"49ers\"] = teamDict2020[\"49ers\"].drop(\"FB\")\n",
    "\n",
    "teamDict2020[\"Ravens\"]"
   ]
  }
 ],
 "metadata": {
  "kernelspec": {
   "display_name": "Python 3.10.2 ('env': venv)",
   "language": "python",
   "name": "python3"
  },
  "language_info": {
   "codemirror_mode": {
    "name": "ipython",
    "version": 3
   },
   "file_extension": ".py",
   "mimetype": "text/x-python",
   "name": "python",
   "nbconvert_exporter": "python",
   "pygments_lexer": "ipython3",
   "version": "3.10.2"
  },
  "orig_nbformat": 4,
  "vscode": {
   "interpreter": {
    "hash": "6a2f9dfe722f9892e92c02c02e3f2a1de76fb98855531832c1cd703df5115fc5"
   }
  }
 },
 "nbformat": 4,
 "nbformat_minor": 2
}
